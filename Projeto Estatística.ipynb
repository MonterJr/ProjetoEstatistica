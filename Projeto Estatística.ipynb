{
 "cells": [
  {
   "cell_type": "code",
   "execution_count": 2,
   "id": "caa4a34b",
   "metadata": {},
   "outputs": [
    {
     "name": "stdout",
     "output_type": "stream",
     "text": [
      "1- Qual o seu nome e sobrenome? EX.: Elias Monteiro Elias Monteiro\n",
      "2- Digite qual sua idade? EX.: 21 21\n",
      "3- Qual sexo você se identifica? Podendo ser somente: (Masculino), (Feminino) ou (Trânsgero) Masculino\n",
      "4- Qual o seu peso atual? EX.: 90.0, 74.3, 86.7 84.5\n",
      "5- Qual cidade você mora atualmente? EX.: Recife, Olinda, Jaboatão dos Guararapes Recife\n",
      "6- Qual o seu estado civil? Podendo ser somente: (Solteiro(a)), (Casado(a)), (Separado(a)), (Viúvo(a)) ou (Divorciado(a)) Solteiro\n",
      "7- Quantos filhos você tem? Podendo ser somente: (0), (1), (2), ou (3+) 0\n",
      "8- Qual o seu nível de escolaridade? EX.: Analfabeto, Funtamental Completo ou Incompleto Superior Incompleto\n",
      "9- Você tem emprego formal? Podendo ser somente: (SIM) ou (NÃO) Sim\n",
      "10- Qual sua renda atual? Podendo ser somente: (Sem renda), (Menos R$ 1.212,00), (R$ 1.212,00 - R$ 2.424,00), (R$ 2.424,00 - R$ 4.848,00), (Acima R$ 4.848,00) ou (Prefiro não informar) R$ 1.212,00 - R$ 2.424,00\n",
      "11- Onde você mora o imóvel é próprio ou alugado? Podendo ser somente: (Próprio) ou (Alugado) Própria\n",
      "12- Você mora em casa ou apartamento? Podendo ser somente: (Casa) ou (Apartamento) Casa\n",
      "13- Você já pegou Covid-19? Podendo ser somente: (SIM) ou (NÃO) Sim\n",
      "14- Você já tomou todas as doses da vacina? Podendo ser somente: (SIM) ou (NÃO) Sim\n",
      "Você quer adicionar mais alguma resposta? Não\n"
     ]
    }
   ],
   "source": [
    "novo_arquivo = open('teste.txt','w')\n",
    "novo_arquivo.write('Nome' + ' , ' + 'Idade' + ' , ' + 'Sexo' + ' , ' + 'Peso' + ' , ' + 'Cidade' + ' , ' + 'Estado Civil' + ' , ' + 'QTD Filhos' + ' , '\n",
    "                   'Escolaridade' + ' , ' + 'Emprego Formal' + ' , ' + 'Renda' + ' , ' + 'Imovel' + ' , ' + 'Tipo de Imovel' + \n",
    "                   ' , ' + 'Pegou Covid' + ' , ' + 'Imunização Completa' + '\\n')\n",
    "op = 0\n",
    "while(op != 1):\n",
    "    \n",
    "\n",
    "    nome = input('1- Qual o seu nome e sobrenome? EX.: Elias Monteiro ')\n",
    "    novo_arquivo.write(nome + ' , ')\n",
    "\n",
    "    idade = input('2- Digite qual sua idade? EX.: 21 ')\n",
    "    novo_arquivo.write(idade + ' , ')\n",
    "\n",
    "    sexo = input('3- Qual sexo você se identifica? Podendo ser somente: (Masculino), (Feminino) ou (Trânsgero) ')\n",
    "    novo_arquivo.write(sexo + ' , ')\n",
    "    \n",
    "    peso = input('4- Qual o seu peso atual? EX.: 90.0, 74.3, 86.7 ')\n",
    "    novo_arquivo.write(peso + ' , ')\n",
    "    \n",
    "    cidade = input('5- Qual cidade você mora atualmente? EX.: Recife, Olinda, Jaboatão dos Guararapes ')\n",
    "    novo_arquivo.write(cidade + ' , ')\n",
    "    \n",
    "    est_civil = input('6- Qual o seu estado civil? Podendo ser somente: (Solteiro), (Casado), (Separado), (Viúvo) ou (Divorciado) ')\n",
    "    novo_arquivo.write(est_civil + ' , ')\n",
    "    \n",
    "    qtd_filhos = input('7- Quantos filhos você tem? Podendo ser somente: (0), (1), (2), ou (3+) ')\n",
    "    novo_arquivo.write(qtd_filhos + ' , ')\n",
    "    \n",
    "    nivel_escolar = input('8- Qual o seu nível de escolaridade? EX.: Analfabeto, Funtamental Completo ou Incompleto ')\n",
    "    novo_arquivo.write(nivel_escolar + ' , ')\n",
    "    \n",
    "    emprego = input('9- Você tem emprego formal? Podendo ser somente: (SIM) ou (NÃO) ')\n",
    "    novo_arquivo.write(emprego + ' , ')\n",
    "    \n",
    "    renda = input('10- Qual sua renda atual? Podendo ser somente: (Sem renda), (Menos 1.212), (1.212 - 2.424), (2.424 - 4.848), (Acima 4.848) ou (Prefiro não informar) ')\n",
    "    novo_arquivo.write(renda + ' , ')\n",
    "     \n",
    "    onde_mora = input('11- Onde você mora o imóvel é próprio ou alugado? Podendo ser somente: (Próprio) ou (Alugado) ')\n",
    "    novo_arquivo.write(onde_mora + ' , ')\n",
    "    \n",
    "    mora_em= input('12- Você mora em casa ou apartamento? Podendo ser somente: (Casa) ou (Apartamento) ')\n",
    "    novo_arquivo.write(mora_em + ' , ')\n",
    "    \n",
    "    covid= input('13- Você já pegou Covid-19? Podendo ser somente: (SIM) ou (NÃO) ')\n",
    "    novo_arquivo.write(covid + ' , ')\n",
    "    \n",
    "    vacina= input('14- Você já tomou todas as doses da vacina? Podendo ser somente: (SIM) ou (NÃO) ')\n",
    "    novo_arquivo.write(vacina)\n",
    "    \n",
    "    novo_arquivo.write('\\n')\n",
    "    \n",
    "    r = input('Você quer adicionar mais alguma resposta? ')\n",
    "    if r == 'não' or r == 'NÃO' or r == 'Não' or r == 'NAO' or r == 'nao' or r == 'Nao':\n",
    "        op = 1\n",
    "    \n",
    "        \n",
    "    \n",
    "novo_arquivo.close()"
   ]
  },
  {
   "cell_type": "code",
   "execution_count": null,
   "id": "04dc0b5f",
   "metadata": {},
   "outputs": [],
   "source": []
  }
 ],
 "metadata": {
  "kernelspec": {
   "display_name": "Python 3 (ipykernel)",
   "language": "python",
   "name": "python3"
  },
  "language_info": {
   "codemirror_mode": {
    "name": "ipython",
    "version": 3
   },
   "file_extension": ".py",
   "mimetype": "text/x-python",
   "name": "python",
   "nbconvert_exporter": "python",
   "pygments_lexer": "ipython3",
   "version": "3.9.12"
  }
 },
 "nbformat": 4,
 "nbformat_minor": 5
}
